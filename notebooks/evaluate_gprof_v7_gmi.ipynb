{
 "cells": [
  {
   "cell_type": "markdown",
   "id": "56b823a7-27da-4978-906c-5b859d3e7720",
   "metadata": {},
   "source": [
    "# This notebook perofms a case study comparing GPROF V7, ERA5, and the SatRain retrievals\n"
   ]
  },
  {
   "cell_type": "code",
   "execution_count": 1,
   "id": "1235feb9-7b22-427f-97ab-d7e1f23d7eb6",
   "metadata": {},
   "outputs": [],
   "source": [
    "%load_ext autoreload\n",
    "%autoreload 2\n",
    "from pathlib import Path\n",
    "from typing import Tuple\n",
    "\n",
    "import h5py\n",
    "import matplotlib.pyplot as plt\n",
    "import numpy as np\n",
    "import pandas as pd\n",
    "import xarray as xr"
   ]
  },
  {
   "cell_type": "markdown",
   "id": "406200b6-c600-492e-a9d3-91d55fbb90ba",
   "metadata": {},
   "source": [
    "## GPROF\n"
   ]
  },
  {
   "cell_type": "code",
   "execution_count": 2,
   "id": "cc91e298-b38d-4cdf-809b-5c2c82b2904d",
   "metadata": {},
   "outputs": [],
   "source": [
    "def load_gprof_precip(path: Path, scan_start: int, scan_end: int) -> xr.Dataset:\n",
    "    \"\"\"\n",
    "    Load GPROF precipitation.\n",
    "\n",
    "    Args:\n",
    "        path: A Path object pointing to the IMERG file to load.\n",
    "        scan_start: The start scan of the collocation.\n",
    "        scan_end: Index pointing to the first scan that is not part of \n",
    "             the collocation anymore.\n",
    "\n",
    "    Return:\n",
    "        An xarray.Dataset containing the 'surface_precip', 'probability_of_precip',\n",
    "        'precipitation_flag', 'probability_of_heavy_precip', and 'heavy_precip_flag'\n",
    "        extracted from the GPROF file pointed to by 'path'.\n",
    "    \"\"\"\n",
    "    slc = slice(scan_start, scan_end)\n",
    "    with h5py.File(path) as data:\n",
    "        lats = data[\"S1/Latitude\"][slc]\n",
    "        lons = data[\"S1/Longitude\"][slc]\n",
    "        \n",
    "        surface_precip = data[\"S1/surfacePrecipitation\"][slc]\n",
    "        invalid = surface_precip < 0\n",
    "        surface_precip[invalid] = np.nan\n",
    "        probability_of_precip = data[\"S1/probabilityOfPrecip\"][slc] / 100.0\n",
    "        precipitation_flag = data[\"S1/precipitationYesNoFlag\"][slc]\n",
    "        probability_of_heavy_precip = np.clip(surface_precip / 100, 0.0, 1.0)\n",
    "\n",
    "    data.close()\n",
    "    del data\n",
    "        \n",
    "    return xr.Dataset({\n",
    "        \"longitude\": ((\"scan\", \"pixel\"), lons),\n",
    "        \"latitude\": ((\"scan\", \"pixel\"), lats),\n",
    "        \"surface_precip\": ((\"scan\", \"pixel\"), surface_precip),\n",
    "        \"probability_of_precip\": ((\"scan\", \"pixel\"), probability_of_precip),\n",
    "        \"precip_flag\": ((\"scan\", \"pixel\"), precipitation_flag),\n",
    "        \"probability_of_heavy_precip\": ((\"scan\", \"pixel\"), probability_of_heavy_precip),\n",
    "        \"heavy_precip_flag\": ((\"scan\", \"pixel\"), surface_precip > 10),\n",
    "    })\n"
   ]
  },
  {
   "cell_type": "code",
   "execution_count": 3,
   "id": "3dec478a-6f2c-413a-8d12-76be09df1eea",
   "metadata": {},
   "outputs": [
    {
     "name": "stderr",
     "output_type": "stream",
     "text": [
      "/home/simon/miniforge3/envs/satrain/lib/python3.13/site-packages/pyproj/network.py:59: UserWarning: pyproj unable to set PROJ database path.\n",
      "  _set_context_ca_bundle_path(ca_bundle_path)\n"
     ]
    }
   ],
   "source": [
    "from pyresample.geometry import SwathDefinition\n",
    "from pansat.utils import resample_data\n",
    "from pansat.products.satellite.gpm import l2a_gprof_gpm_gmi_v07a, l2a_gprof_gpm_gmi_v07b\n",
    "\n",
    "def retrieve_gprof(input_data: xr.Dataset) -> xr.Dataset:\n",
    "    \"\"\"\n",
    "    Retrieval callback function to load GPROF data corresponding to IPWGML SPR evaluation data.\n",
    "\n",
    "    Args:\n",
    "        input_data: An xarray.Dataset containing the retrieval input data.\n",
    "\n",
    "    Return:\n",
    "        An xarray.Dataset containing the retrieval results.\n",
    "    \"\"\"\n",
    "    time = input_data.time.mean().data\n",
    "    recs = l2a_gprof_gpm_gmi_v07a.get(time)\n",
    "    if len(recs) == 0:\n",
    "        recs = l2a_gprof_gpm_gmi_v07b.get(time)\n",
    "    rec = recs[0]\n",
    "    input_file = input_data.attrs[\"gpm_input_file\"]\n",
    "    scan_start = input_data.attrs[\"scan_start\"]\n",
    "    scan_end = input_data.attrs[\"scan_end\"]\n",
    "    results_gprof = load_gprof_precip(rec.local_path, scan_start, scan_end)\n",
    "\n",
    "    n_batches = input_data.batch.size\n",
    "    batch_results = []\n",
    "    for batch_ind in range(n_batches):\n",
    "        lons = input_data.longitude[batch_ind]\n",
    "        lats = input_data.latitude[batch_ind]\n",
    "        lons, lats = np.meshgrid(lons, lats)\n",
    "        grid = SwathDefinition(lons, lats)\n",
    "        results_gprof_r = resample_data(results_gprof, grid, radius_of_influence=10e3)\n",
    "        batch_results.append(results_gprof_r.drop_vars((\"latitude\", \"longitude\")))\n",
    "    return xr.concat(batch_results, dim=\"batch\")"
   ]
  },
  {
   "cell_type": "code",
   "execution_count": 4,
   "id": "916df0e9-9a74-4968-9fb7-b0744fb33d0c",
   "metadata": {},
   "outputs": [
    {
     "name": "stdout",
     "output_type": "stream",
     "text": [
      "env: PANSAT_PASSWORD=not_a_secret\n"
     ]
    }
   ],
   "source": [
    "%env PANSAT_PASSWORD=not_a_secret"
   ]
  },
  {
   "cell_type": "code",
   "execution_count": 5,
   "id": "33bfcf12-e9b6-405c-b22e-1a375e50a6bf",
   "metadata": {},
   "outputs": [
    {
     "data": {
      "text/html": [
       "<pre style=\"white-space:pre;overflow-x:auto;line-height:normal;font-family:Menlo,'DejaVu Sans Mono',consolas,'Courier New',monospace\"><span style=\"color: #7fbfbf; text-decoration-color: #7fbfbf\">[10:34:14] </span><span style=\"color: #000080; text-decoration-color: #000080\">INFO    </span> blosc filter already loaded, skip it.                                             <a href=\"file:///home/simon/miniforge3/envs/satrain/lib/python3.13/site-packages/hdf5plugin/_utils.py\" target=\"_blank\"><span style=\"color: #7f7f7f; text-decoration-color: #7f7f7f\">_utils.py</span></a><span style=\"color: #7f7f7f; text-decoration-color: #7f7f7f\">:</span><a href=\"file:///home/simon/miniforge3/envs/satrain/lib/python3.13/site-packages/hdf5plugin/_utils.py#250\" target=\"_blank\"><span style=\"color: #7f7f7f; text-decoration-color: #7f7f7f\">250</span></a>\n",
       "</pre>\n"
      ],
      "text/plain": [
       "\u001b[2;36m[10:34:14]\u001b[0m\u001b[2;36m \u001b[0m\u001b[34mINFO    \u001b[0m blosc filter already loaded, skip it.                                             \u001b]8;id=704283;file:///home/simon/miniforge3/envs/satrain/lib/python3.13/site-packages/hdf5plugin/_utils.py\u001b\\\u001b[2m_utils.py\u001b[0m\u001b]8;;\u001b\\\u001b[2m:\u001b[0m\u001b]8;id=884649;file:///home/simon/miniforge3/envs/satrain/lib/python3.13/site-packages/hdf5plugin/_utils.py#250\u001b\\\u001b[2m250\u001b[0m\u001b]8;;\u001b\\\n"
      ]
     },
     "metadata": {},
     "output_type": "display_data"
    },
    {
     "data": {
      "text/html": [
       "<pre style=\"white-space:pre;overflow-x:auto;line-height:normal;font-family:Menlo,'DejaVu Sans Mono',consolas,'Courier New',monospace\"><span style=\"color: #7fbfbf; text-decoration-color: #7fbfbf\">           </span><span style=\"color: #000080; text-decoration-color: #000080\">INFO    </span> bzip2 filter already loaded, skip it.                                             <a href=\"file:///home/simon/miniforge3/envs/satrain/lib/python3.13/site-packages/hdf5plugin/_utils.py\" target=\"_blank\"><span style=\"color: #7f7f7f; text-decoration-color: #7f7f7f\">_utils.py</span></a><span style=\"color: #7f7f7f; text-decoration-color: #7f7f7f\">:</span><a href=\"file:///home/simon/miniforge3/envs/satrain/lib/python3.13/site-packages/hdf5plugin/_utils.py#250\" target=\"_blank\"><span style=\"color: #7f7f7f; text-decoration-color: #7f7f7f\">250</span></a>\n",
       "</pre>\n"
      ],
      "text/plain": [
       "\u001b[2;36m          \u001b[0m\u001b[2;36m \u001b[0m\u001b[34mINFO    \u001b[0m bzip2 filter already loaded, skip it.                                             \u001b]8;id=270827;file:///home/simon/miniforge3/envs/satrain/lib/python3.13/site-packages/hdf5plugin/_utils.py\u001b\\\u001b[2m_utils.py\u001b[0m\u001b]8;;\u001b\\\u001b[2m:\u001b[0m\u001b]8;id=509379;file:///home/simon/miniforge3/envs/satrain/lib/python3.13/site-packages/hdf5plugin/_utils.py#250\u001b\\\u001b[2m250\u001b[0m\u001b]8;;\u001b\\\n"
      ]
     },
     "metadata": {},
     "output_type": "display_data"
    },
    {
     "data": {
      "text/html": [
       "<pre style=\"white-space:pre;overflow-x:auto;line-height:normal;font-family:Menlo,'DejaVu Sans Mono',consolas,'Courier New',monospace\"><span style=\"color: #7fbfbf; text-decoration-color: #7fbfbf\">           </span><span style=\"color: #000080; text-decoration-color: #000080\">INFO    </span> zstd filter already loaded, skip it.                                              <a href=\"file:///home/simon/miniforge3/envs/satrain/lib/python3.13/site-packages/hdf5plugin/_utils.py\" target=\"_blank\"><span style=\"color: #7f7f7f; text-decoration-color: #7f7f7f\">_utils.py</span></a><span style=\"color: #7f7f7f; text-decoration-color: #7f7f7f\">:</span><a href=\"file:///home/simon/miniforge3/envs/satrain/lib/python3.13/site-packages/hdf5plugin/_utils.py#250\" target=\"_blank\"><span style=\"color: #7f7f7f; text-decoration-color: #7f7f7f\">250</span></a>\n",
       "</pre>\n"
      ],
      "text/plain": [
       "\u001b[2;36m          \u001b[0m\u001b[2;36m \u001b[0m\u001b[34mINFO    \u001b[0m zstd filter already loaded, skip it.                                              \u001b]8;id=292638;file:///home/simon/miniforge3/envs/satrain/lib/python3.13/site-packages/hdf5plugin/_utils.py\u001b\\\u001b[2m_utils.py\u001b[0m\u001b]8;;\u001b\\\u001b[2m:\u001b[0m\u001b]8;id=603110;file:///home/simon/miniforge3/envs/satrain/lib/python3.13/site-packages/hdf5plugin/_utils.py#250\u001b\\\u001b[2m250\u001b[0m\u001b]8;;\u001b\\\n"
      ]
     },
     "metadata": {},
     "output_type": "display_data"
    },
    {
     "data": {
      "application/vnd.jupyter.widget-view+json": {
       "model_id": "47eedf951bfc4d23b127a5371c9b42a9",
       "version_major": 2,
       "version_minor": 0
      },
      "text/plain": [
       "Output()"
      ]
     },
     "metadata": {},
     "output_type": "display_data"
    },
    {
     "data": {
      "text/html": [
       "<pre style=\"white-space:pre;overflow-x:auto;line-height:normal;font-family:Menlo,'DejaVu Sans Mono',consolas,'Courier New',monospace\"><span style=\"color: #808000; text-decoration-color: #808000\">WARNING </span> Found table named <span style=\"color: #008000; text-decoration-color: #008000\">'satellite.goes.l1b_goes18_rad_rgb_full_disk'</span> in database but could not load find a     \n",
       "         corresponding pansat product.                                                                             \n",
       "</pre>\n"
      ],
      "text/plain": [
       "\u001b[33mWARNING \u001b[0m Found table named \u001b[32m'satellite.goes.l1b_goes18_rad_rgb_full_disk'\u001b[0m in database but could not load find a     \n",
       "         corresponding pansat product.                                                                             \n"
      ]
     },
     "metadata": {},
     "output_type": "display_data"
    },
    {
     "data": {
      "text/html": [
       "<pre style=\"white-space:pre;overflow-x:auto;line-height:normal;font-family:Menlo,'DejaVu Sans Mono',consolas,'Courier New',monospace\"><span style=\"color: #808000; text-decoration-color: #808000\">WARNING </span> Found table named <span style=\"color: #008000; text-decoration-color: #008000\">'dem.copernicus'</span> in database but could not load find a corresponding pansat product.    \n",
       "</pre>\n"
      ],
      "text/plain": [
       "\u001b[33mWARNING \u001b[0m Found table named \u001b[32m'dem.copernicus'\u001b[0m in database but could not load find a corresponding pansat product.    \n"
      ]
     },
     "metadata": {},
     "output_type": "display_data"
    },
    {
     "data": {
      "text/html": [
       "<pre style=\"white-space:pre;overflow-x:auto;line-height:normal;font-family:Menlo,'DejaVu Sans Mono',consolas,'Courier New',monospace\"><span style=\"color: #000080; text-decoration-color: #000080\">INFO    </span> Downloading file <span style=\"color: #800080; text-decoration-color: #800080; font-weight: bold\">FileRecord</span><span style=\"font-weight: bold\">(</span><span style=\"color: #808000; text-decoration-color: #808000\">filename</span>=<span style=\"color: #008000; text-decoration-color: #008000\">'2A.GPM.GMI.GPROF2021v1.20210102-S065026-E082300.038901.V07A.HDF5'</span>,  \n",
       "         <span style=\"color: #808000; text-decoration-color: #808000\">local_path</span>=<span style=\"color: #800080; text-decoration-color: #800080; font-style: italic\">None</span>, <span style=\"color: #808000; text-decoration-color: #808000\">product</span>=<span style=\"font-weight: bold\">&lt;</span><span style=\"color: #ff00ff; text-decoration-color: #ff00ff; font-weight: bold\">pansat.products.satellite.gpm.GPROFProduct</span><span style=\"color: #000000; text-decoration-color: #000000\"> object at </span><span style=\"color: #008080; text-decoration-color: #008080; font-weight: bold\">0x782d02782e40</span><span style=\"color: #000000; text-decoration-color: #000000\">&gt;, </span>          \n",
       "         <span style=\"color: #808000; text-decoration-color: #808000\">provider</span><span style=\"color: #000000; text-decoration-color: #000000\">=&lt;pansat.download.providers.ges_disc.GesDiscProviderDay object at </span><span style=\"color: #008080; text-decoration-color: #008080; font-weight: bold\">0x782ced3bb4d0</span><span style=\"font-weight: bold\">&gt;</span>,                \n",
       "         <span style=\"color: #808000; text-decoration-color: #808000\">remote_path</span>=<span style=\"color: #008000; text-decoration-color: #008000\">'https://gpm1.gesdisc.eosdis.nasa.gov/data/GPM_L2/GPM_2AGPROFGPMGMI.07/2021/002/2A.GPM.GMI.GPR</span>\n",
       "         <span style=\"color: #008000; text-decoration-color: #008000\">OF2021v1.20210102-S065026-E082300.038901.V07A.HDF5'</span><span style=\"font-weight: bold\">)</span> to <span style=\"color: #800080; text-decoration-color: #800080; font-style: italic\">None</span>                                              \n",
       "</pre>\n"
      ],
      "text/plain": [
       "\u001b[34mINFO    \u001b[0m Downloading file \u001b[1;35mFileRecord\u001b[0m\u001b[1m(\u001b[0m\u001b[33mfilename\u001b[0m=\u001b[32m'2A.GPM.GMI.GPROF2021v1.20210102-S065026-E082300.038901.V07A.HDF5'\u001b[0m,  \n",
       "         \u001b[33mlocal_path\u001b[0m=\u001b[3;35mNone\u001b[0m, \u001b[33mproduct\u001b[0m=\u001b[1m<\u001b[0m\u001b[1;95mpansat.products.satellite.gpm.GPROFProduct\u001b[0m\u001b[39m object at \u001b[0m\u001b[1;36m0x782d02782e40\u001b[0m\u001b[39m>, \u001b[0m          \n",
       "         \u001b[33mprovider\u001b[0m\u001b[39m=<pansat.download.providers.ges_disc.GesDiscProviderDay object at \u001b[0m\u001b[1;36m0x782ced3bb4d0\u001b[0m\u001b[1m>\u001b[0m,                \n",
       "         \u001b[33mremote_path\u001b[0m=\u001b[32m'https://gpm1.gesdisc.eosdis.nasa.gov/data/GPM_L2/GPM_2AGPROFGPMGMI.07/2021/002/2A.GPM.GMI.GPR\u001b[0m\n",
       "         \u001b[32mOF2021v1.20210102-S065026-E082300.038901.V07A.HDF5'\u001b[0m\u001b[1m)\u001b[0m to \u001b[3;35mNone\u001b[0m                                              \n"
      ]
     },
     "metadata": {},
     "output_type": "display_data"
    },
    {
     "data": {
      "text/html": [
       "<pre style=\"white-space:pre;overflow-x:auto;line-height:normal;font-family:Menlo,'DejaVu Sans Mono',consolas,'Courier New',monospace\"></pre>\n"
      ],
      "text/plain": []
     },
     "metadata": {},
     "output_type": "display_data"
    },
    {
     "ename": "AttributeError",
     "evalue": "'Dataset' object has no attribute 'batch'",
     "output_type": "error",
     "traceback": [
      "\u001b[31m---------------------------------------------------------------------------\u001b[39m",
      "\u001b[31mAttributeError\u001b[39m                            Traceback (most recent call last)",
      "\u001b[36mCell\u001b[39m\u001b[36m \u001b[39m\u001b[32mIn[5]\u001b[39m\u001b[32m, line 14\u001b[39m\n\u001b[32m      4\u001b[39m \u001b[38;5;28;01mfor\u001b[39;00m domain \u001b[38;5;129;01min\u001b[39;00m [\u001b[33m\"\u001b[39m\u001b[33maustria\u001b[39m\u001b[33m\"\u001b[39m, \u001b[33m\"\u001b[39m\u001b[33mkorea\u001b[39m\u001b[33m\"\u001b[39m]:\n\u001b[32m      5\u001b[39m     evaluator = Evaluator(\n\u001b[32m      6\u001b[39m         domain=domain,\n\u001b[32m      7\u001b[39m         base_sensor=\u001b[33m\"\u001b[39m\u001b[33mgmi\u001b[39m\u001b[33m\"\u001b[39m,\n\u001b[32m   (...)\u001b[39m\u001b[32m     12\u001b[39m         download=\u001b[38;5;28;01mTrue\u001b[39;00m,\n\u001b[32m     13\u001b[39m     )\n\u001b[32m---> \u001b[39m\u001b[32m14\u001b[39m     \u001b[43mevaluator\u001b[49m\u001b[43m.\u001b[49m\u001b[43mevaluate\u001b[49m\u001b[43m(\u001b[49m\u001b[43mretrieve_gprof\u001b[49m\u001b[43m)\u001b[49m\n\u001b[32m     15\u001b[39m     results = evaluator.get_results()\n\u001b[32m     16\u001b[39m     results.to_netcdf()\n",
      "\u001b[36mFile \u001b[39m\u001b[32m~/src/satrain/src/satrain/evaluation.py:1292\u001b[39m, in \u001b[36mEvaluator.evaluate\u001b[39m\u001b[34m(self, retrieval_fn, tile_size, overlap, batch_size, input_data_format, n_processes, output_path)\u001b[39m\n\u001b[32m   1281\u001b[39m             \u001b[38;5;28mself\u001b[39m.evaluate_scene(\n\u001b[32m   1282\u001b[39m                 index=scene_ind,\n\u001b[32m   1283\u001b[39m                 tile_size=tile_size,\n\u001b[32m   (...)\u001b[39m\u001b[32m   1289\u001b[39m                 output_path=output_path,\n\u001b[32m   1290\u001b[39m             )\n\u001b[32m   1291\u001b[39m         \u001b[38;5;28;01mexcept\u001b[39;00m \u001b[38;5;167;01mException\u001b[39;00m \u001b[38;5;28;01mas\u001b[39;00m exc:\n\u001b[32m-> \u001b[39m\u001b[32m1292\u001b[39m             \u001b[38;5;28;01mraise\u001b[39;00m exc\n\u001b[32m   1293\u001b[39m             LOGGER.exception(\n\u001b[32m   1294\u001b[39m                 \u001b[33mf\u001b[39m\u001b[33m\"\u001b[39m\u001b[33mEncountered an error when processing scene \u001b[39m\u001b[38;5;132;01m{\u001b[39;00mscene_ind\u001b[38;5;132;01m}\u001b[39;00m\u001b[33m.\u001b[39m\u001b[33m\"\u001b[39m\n\u001b[32m   1295\u001b[39m             )\n\u001b[32m   1296\u001b[39m \u001b[38;5;28;01melse\u001b[39;00m:\n",
      "\u001b[36mFile \u001b[39m\u001b[32m~/src/satrain/src/satrain/evaluation.py:1281\u001b[39m, in \u001b[36mEvaluator.evaluate\u001b[39m\u001b[34m(self, retrieval_fn, tile_size, overlap, batch_size, input_data_format, n_processes, output_path)\u001b[39m\n\u001b[32m   1275\u001b[39m \u001b[38;5;28;01mfor\u001b[39;00m scene_ind \u001b[38;5;129;01min\u001b[39;00m track(\n\u001b[32m   1276\u001b[39m     \u001b[38;5;28mrange\u001b[39m(\u001b[38;5;28mlen\u001b[39m(\u001b[38;5;28mself\u001b[39m)),\n\u001b[32m   1277\u001b[39m     description=\u001b[33m\"\u001b[39m\u001b[33mEvaluating retrieval\u001b[39m\u001b[33m\"\u001b[39m,\n\u001b[32m   1278\u001b[39m     console=satrain.logging.get_console(),\n\u001b[32m   1279\u001b[39m ):\n\u001b[32m   1280\u001b[39m     \u001b[38;5;28;01mtry\u001b[39;00m:\n\u001b[32m-> \u001b[39m\u001b[32m1281\u001b[39m         \u001b[38;5;28;43mself\u001b[39;49m\u001b[43m.\u001b[49m\u001b[43mevaluate_scene\u001b[49m\u001b[43m(\u001b[49m\n\u001b[32m   1282\u001b[39m \u001b[43m            \u001b[49m\u001b[43mindex\u001b[49m\u001b[43m=\u001b[49m\u001b[43mscene_ind\u001b[49m\u001b[43m,\u001b[49m\n\u001b[32m   1283\u001b[39m \u001b[43m            \u001b[49m\u001b[43mtile_size\u001b[49m\u001b[43m=\u001b[49m\u001b[43mtile_size\u001b[49m\u001b[43m,\u001b[49m\n\u001b[32m   1284\u001b[39m \u001b[43m            \u001b[49m\u001b[43moverlap\u001b[49m\u001b[43m=\u001b[49m\u001b[43moverlap\u001b[49m\u001b[43m,\u001b[49m\n\u001b[32m   1285\u001b[39m \u001b[43m            \u001b[49m\u001b[43mbatch_size\u001b[49m\u001b[43m=\u001b[49m\u001b[43mbatch_size\u001b[49m\u001b[43m,\u001b[49m\n\u001b[32m   1286\u001b[39m \u001b[43m            \u001b[49m\u001b[43mretrieval_fn\u001b[49m\u001b[43m=\u001b[49m\u001b[43mretrieval_fn\u001b[49m\u001b[43m,\u001b[49m\n\u001b[32m   1287\u001b[39m \u001b[43m            \u001b[49m\u001b[43minput_data_format\u001b[49m\u001b[43m=\u001b[49m\u001b[43minput_data_format\u001b[49m\u001b[43m,\u001b[49m\n\u001b[32m   1288\u001b[39m \u001b[43m            \u001b[49m\u001b[43mtrack\u001b[49m\u001b[43m=\u001b[49m\u001b[38;5;28;43;01mTrue\u001b[39;49;00m\u001b[43m,\u001b[49m\n\u001b[32m   1289\u001b[39m \u001b[43m            \u001b[49m\u001b[43moutput_path\u001b[49m\u001b[43m=\u001b[49m\u001b[43moutput_path\u001b[49m\u001b[43m,\u001b[49m\n\u001b[32m   1290\u001b[39m \u001b[43m        \u001b[49m\u001b[43m)\u001b[49m\n\u001b[32m   1291\u001b[39m     \u001b[38;5;28;01mexcept\u001b[39;00m \u001b[38;5;167;01mException\u001b[39;00m \u001b[38;5;28;01mas\u001b[39;00m exc:\n\u001b[32m   1292\u001b[39m         \u001b[38;5;28;01mraise\u001b[39;00m exc\n",
      "\u001b[36mFile \u001b[39m\u001b[32m~/src/satrain/src/satrain/evaluation.py:1204\u001b[39m, in \u001b[36mEvaluator.evaluate_scene\u001b[39m\u001b[34m(self, index, tile_size, overlap, batch_size, retrieval_fn, input_data_format, track, output_path)\u001b[39m\n\u001b[32m   1201\u001b[39m     heavy_precip_detection_metrics = []\n\u001b[32m   1202\u001b[39m     prob_heavy_precip_detection_metrics = []\n\u001b[32m-> \u001b[39m\u001b[32m1204\u001b[39m \u001b[38;5;28;01mreturn\u001b[39;00m \u001b[43mevaluate_scene\u001b[49m\u001b[43m(\u001b[49m\n\u001b[32m   1205\u001b[39m \u001b[43m    \u001b[49m\u001b[43minput_files\u001b[49m\u001b[43m=\u001b[49m\u001b[38;5;28;43mself\u001b[39;49m\u001b[43m.\u001b[49m\u001b[43mget_input_files\u001b[49m\u001b[43m(\u001b[49m\u001b[43mindex\u001b[49m\u001b[43m)\u001b[49m\u001b[43m,\u001b[49m\n\u001b[32m   1206\u001b[39m \u001b[43m    \u001b[49m\u001b[43mretrieval_input\u001b[49m\u001b[43m=\u001b[49m\u001b[38;5;28;43mself\u001b[39;49m\u001b[43m.\u001b[49m\u001b[43mretrieval_input\u001b[49m\u001b[43m,\u001b[49m\n\u001b[32m   1207\u001b[39m \u001b[43m    \u001b[49m\u001b[43mtarget_config\u001b[49m\u001b[43m=\u001b[49m\u001b[38;5;28;43mself\u001b[39;49m\u001b[43m.\u001b[49m\u001b[43mtarget_config\u001b[49m\u001b[43m,\u001b[49m\n\u001b[32m   1208\u001b[39m \u001b[43m    \u001b[49m\u001b[43mgeometry\u001b[49m\u001b[43m=\u001b[49m\u001b[38;5;28;43mself\u001b[39;49m\u001b[43m.\u001b[49m\u001b[43mgeometry\u001b[49m\u001b[43m,\u001b[49m\n\u001b[32m   1209\u001b[39m \u001b[43m    \u001b[49m\u001b[43mtile_size\u001b[49m\u001b[43m=\u001b[49m\u001b[43mtile_size\u001b[49m\u001b[43m,\u001b[49m\n\u001b[32m   1210\u001b[39m \u001b[43m    \u001b[49m\u001b[43moverlap\u001b[49m\u001b[43m=\u001b[49m\u001b[43moverlap\u001b[49m\u001b[43m,\u001b[49m\n\u001b[32m   1211\u001b[39m \u001b[43m    \u001b[49m\u001b[43mbatch_size\u001b[49m\u001b[43m=\u001b[49m\u001b[43mbatch_size\u001b[49m\u001b[43m,\u001b[49m\n\u001b[32m   1212\u001b[39m \u001b[43m    \u001b[49m\u001b[43mretrieval_fn\u001b[49m\u001b[43m=\u001b[49m\u001b[43mretrieval_fn\u001b[49m\u001b[43m,\u001b[49m\n\u001b[32m   1213\u001b[39m \u001b[43m    \u001b[49m\u001b[43minput_data_format\u001b[49m\u001b[43m=\u001b[49m\u001b[43minput_data_format\u001b[49m\u001b[43m,\u001b[49m\n\u001b[32m   1214\u001b[39m \u001b[43m    \u001b[49m\u001b[43mprecip_quantification_metrics\u001b[49m\u001b[43m=\u001b[49m\u001b[43mprecip_quantification_metrics\u001b[49m\u001b[43m,\u001b[49m\n\u001b[32m   1215\u001b[39m \u001b[43m    \u001b[49m\u001b[43mprecip_detection_metrics\u001b[49m\u001b[43m=\u001b[49m\u001b[43mprecip_detection_metrics\u001b[49m\u001b[43m,\u001b[49m\n\u001b[32m   1216\u001b[39m \u001b[43m    \u001b[49m\u001b[43mprob_precip_detection_metrics\u001b[49m\u001b[43m=\u001b[49m\u001b[43mprob_precip_detection_metrics\u001b[49m\u001b[43m,\u001b[49m\n\u001b[32m   1217\u001b[39m \u001b[43m    \u001b[49m\u001b[43mheavy_precip_detection_metrics\u001b[49m\u001b[43m=\u001b[49m\u001b[43mheavy_precip_detection_metrics\u001b[49m\u001b[43m,\u001b[49m\n\u001b[32m   1218\u001b[39m \u001b[43m    \u001b[49m\u001b[43mprob_heavy_precip_detection_metrics\u001b[49m\u001b[43m=\u001b[49m\u001b[43mprob_heavy_precip_detection_metrics\u001b[49m\u001b[43m,\u001b[49m\n\u001b[32m   1219\u001b[39m \u001b[43m    \u001b[49m\u001b[43moutput_path\u001b[49m\u001b[43m=\u001b[49m\u001b[43moutput_path\u001b[49m\u001b[43m,\u001b[49m\n\u001b[32m   1220\u001b[39m \u001b[43m\u001b[49m\u001b[43m)\u001b[49m\n",
      "\u001b[36mFile \u001b[39m\u001b[32m~/src/satrain/src/satrain/evaluation.py:580\u001b[39m, in \u001b[36mevaluate_scene\u001b[39m\u001b[34m(input_files, retrieval_input, target_config, geometry, tile_size, overlap, batch_size, retrieval_fn, input_data_format, precip_quantification_metrics, precip_detection_metrics, prob_precip_detection_metrics, heavy_precip_detection_metrics, prob_heavy_precip_detection_metrics, output_path)\u001b[39m\n\u001b[32m    575\u001b[39m input_data = load_retrieval_input_data(\n\u001b[32m    576\u001b[39m     input_files=input_files, retrieval_input=retrieval_input, geometry=geometry\n\u001b[32m    577\u001b[39m )\n\u001b[32m    579\u001b[39m \u001b[38;5;28;01mif\u001b[39;00m input_data_format == \u001b[33m\"\u001b[39m\u001b[33mspatial\u001b[39m\u001b[33m\"\u001b[39m:\n\u001b[32m--> \u001b[39m\u001b[32m580\u001b[39m     results = \u001b[43mprocess_scene_spatial\u001b[49m\u001b[43m(\u001b[49m\n\u001b[32m    581\u001b[39m \u001b[43m        \u001b[49m\u001b[43minput_data\u001b[49m\u001b[43m=\u001b[49m\u001b[43minput_data\u001b[49m\u001b[43m,\u001b[49m\n\u001b[32m    582\u001b[39m \u001b[43m        \u001b[49m\u001b[43mtile_size\u001b[49m\u001b[43m=\u001b[49m\u001b[43mtile_size\u001b[49m\u001b[43m,\u001b[49m\n\u001b[32m    583\u001b[39m \u001b[43m        \u001b[49m\u001b[43moverlap\u001b[49m\u001b[43m=\u001b[49m\u001b[43moverlap\u001b[49m\u001b[43m,\u001b[49m\n\u001b[32m    584\u001b[39m \u001b[43m        \u001b[49m\u001b[43mbatch_size\u001b[49m\u001b[43m=\u001b[49m\u001b[43mbatch_size\u001b[49m\u001b[43m,\u001b[49m\n\u001b[32m    585\u001b[39m \u001b[43m        \u001b[49m\u001b[43mretrieval_fn\u001b[49m\u001b[43m=\u001b[49m\u001b[43mretrieval_fn\u001b[49m\u001b[43m,\u001b[49m\n\u001b[32m    586\u001b[39m \u001b[43m    \u001b[49m\u001b[43m)\u001b[49m\n\u001b[32m    587\u001b[39m \u001b[38;5;28;01melse\u001b[39;00m:\n\u001b[32m    588\u001b[39m     results = process_scene_tabular(\n\u001b[32m    589\u001b[39m         input_data=input_data, batch_size=batch_size, retrieval_fn=retrieval_fn\n\u001b[32m    590\u001b[39m     )\n",
      "\u001b[36mFile \u001b[39m\u001b[32m~/src/satrain/src/satrain/evaluation.py:395\u001b[39m, in \u001b[36mprocess_scene_spatial\u001b[39m\u001b[34m(input_data, tile_size, overlap, batch_size, retrieval_fn)\u001b[39m\n\u001b[32m    393\u001b[39m                 \u001b[38;5;28;01massert\u001b[39;00m \u001b[38;5;28mlen\u001b[39m(batch) == \u001b[32m1\u001b[39m\n\u001b[32m    394\u001b[39m                 \u001b[38;5;28;01massert\u001b[39;00m \u001b[38;5;28mlen\u001b[39m(coords) == \u001b[32m1\u001b[39m\n\u001b[32m--> \u001b[39m\u001b[32m395\u001b[39m                 vars_retrieved = \u001b[43mprocess\u001b[49m\u001b[43m(\u001b[49m\n\u001b[32m    396\u001b[39m \u001b[43m                    \u001b[49m\u001b[43mretrieval_fn\u001b[49m\u001b[43m,\u001b[49m\u001b[43m \u001b[49m\u001b[43mbatch\u001b[49m\u001b[43m[\u001b[49m\u001b[32;43m0\u001b[39;49m\u001b[43m]\u001b[49m\u001b[43m,\u001b[49m\u001b[43m \u001b[49m\u001b[43mcoords\u001b[49m\u001b[43m[\u001b[49m\u001b[32;43m0\u001b[39;49m\u001b[43m]\u001b[49m\u001b[43m,\u001b[49m\u001b[43m \u001b[49m\u001b[43mresult_tiler\u001b[49m\n\u001b[32m    397\u001b[39m \u001b[43m                \u001b[49m\u001b[43m)\u001b[49m\n\u001b[32m    399\u001b[39m \u001b[38;5;66;03m# Process remaining tiles.\u001b[39;00m\n\u001b[32m    400\u001b[39m \u001b[38;5;28;01mif\u001b[39;00m \u001b[38;5;28mlen\u001b[39m(batch_stack) > \u001b[32m0\u001b[39m:\n",
      "\u001b[36mFile \u001b[39m\u001b[32m~/src/satrain/src/satrain/evaluation.py:164\u001b[39m, in \u001b[36mprocess\u001b[39m\u001b[34m(retrieval_fn, input_data, coords, result_tiler)\u001b[39m\n\u001b[32m    140\u001b[39m \u001b[38;5;28;01mdef\u001b[39;00m\u001b[38;5;250m \u001b[39m\u001b[34mprocess\u001b[39m(\n\u001b[32m    141\u001b[39m     retrieval_fn: Callable[[xr.Dataset], xr.Dataset],\n\u001b[32m    142\u001b[39m     input_data: xr.Dataset,\n\u001b[32m    143\u001b[39m     coords: Tuple[\u001b[38;5;28mint\u001b[39m, \u001b[38;5;28mint\u001b[39m],\n\u001b[32m    144\u001b[39m     result_tiler: DatasetTiler,\n\u001b[32m    145\u001b[39m ) -> List[\u001b[38;5;28mstr\u001b[39m]:\n\u001b[32m    146\u001b[39m \u001b[38;5;250m    \u001b[39m\u001b[33;03m\"\"\"\u001b[39;00m\n\u001b[32m    147\u001b[39m \u001b[33;03m    Performs the retrieval on a single tile adds the retrieval\u001b[39;00m\n\u001b[32m    148\u001b[39m \u001b[33;03m    results to the corresponding result tile.\u001b[39;00m\n\u001b[32m   (...)\u001b[39m\u001b[32m    162\u001b[39m \u001b[33;03m        function.\u001b[39;00m\n\u001b[32m    163\u001b[39m \u001b[33;03m    \"\"\"\u001b[39;00m\n\u001b[32m--> \u001b[39m\u001b[32m164\u001b[39m     retrieved = \u001b[43mretrieval_fn\u001b[49m\u001b[43m(\u001b[49m\u001b[43minput_data\u001b[49m\u001b[43m)\u001b[49m\n\u001b[32m    165\u001b[39m     expected_dims = get_expected_dims(input_data)\n\u001b[32m    166\u001b[39m     _check_retrieval_results(input_data, retrieved, expected_dims)\n",
      "\u001b[36mCell\u001b[39m\u001b[36m \u001b[39m\u001b[32mIn[3]\u001b[39m\u001b[32m, line 25\u001b[39m, in \u001b[36mretrieve_gprof\u001b[39m\u001b[34m(input_data)\u001b[39m\n\u001b[32m     22\u001b[39m scan_end = input_data.attrs[\u001b[33m\"\u001b[39m\u001b[33mscan_end\u001b[39m\u001b[33m\"\u001b[39m]\n\u001b[32m     23\u001b[39m results_gprof = load_gprof_precip(rec.local_path, scan_start, scan_end)\n\u001b[32m---> \u001b[39m\u001b[32m25\u001b[39m n_batches = \u001b[43minput_data\u001b[49m\u001b[43m.\u001b[49m\u001b[43mbatch\u001b[49m.size\n\u001b[32m     26\u001b[39m batch_results = []\n\u001b[32m     27\u001b[39m \u001b[38;5;28;01mfor\u001b[39;00m batch_ind \u001b[38;5;129;01min\u001b[39;00m \u001b[38;5;28mrange\u001b[39m(n_batches):\n",
      "\u001b[36mFile \u001b[39m\u001b[32m~/miniforge3/envs/satrain/lib/python3.13/site-packages/xarray/core/common.py:306\u001b[39m, in \u001b[36mAttrAccessMixin.__getattr__\u001b[39m\u001b[34m(self, name)\u001b[39m\n\u001b[32m    304\u001b[39m         \u001b[38;5;28;01mwith\u001b[39;00m suppress(\u001b[38;5;167;01mKeyError\u001b[39;00m):\n\u001b[32m    305\u001b[39m             \u001b[38;5;28;01mreturn\u001b[39;00m source[name]\n\u001b[32m--> \u001b[39m\u001b[32m306\u001b[39m \u001b[38;5;28;01mraise\u001b[39;00m \u001b[38;5;167;01mAttributeError\u001b[39;00m(\n\u001b[32m    307\u001b[39m     \u001b[33mf\u001b[39m\u001b[33m\"\u001b[39m\u001b[38;5;132;01m{\u001b[39;00m\u001b[38;5;28mtype\u001b[39m(\u001b[38;5;28mself\u001b[39m).\u001b[34m__name__\u001b[39m\u001b[38;5;132;01m!r}\u001b[39;00m\u001b[33m object has no attribute \u001b[39m\u001b[38;5;132;01m{\u001b[39;00mname\u001b[38;5;132;01m!r}\u001b[39;00m\u001b[33m\"\u001b[39m\n\u001b[32m    308\u001b[39m )\n",
      "\u001b[31mAttributeError\u001b[39m: 'Dataset' object has no attribute 'batch'"
     ]
    }
   ],
   "source": [
    "from satrain.evaluation import Evaluator\n",
    "from satrain.target import TargetConfig\n",
    "\n",
    "for domain in [\"austria\", \"korea\"]:\n",
    "    evaluator = Evaluator(\n",
    "        domain=domain,\n",
    "        base_sensor=\"gmi\",\n",
    "        geometry=\"gridded\",\n",
    "        retrieval_input=[\n",
    "            {\"name\": \"gmi\", \"normalize\": \"minmax\", \"nan\": -2},\n",
    "        ],\n",
    "        download=True,\n",
    "    )\n",
    "    evaluator.evaluate(retrieve_gprof)\n",
    "    results = evaluator.get_results()\n",
    "    results.to_netcdf()"
   ]
  },
  {
   "cell_type": "code",
   "execution_count": null,
   "id": "adea8e22-087d-42a4-af4d-efc4d3a9646c",
   "metadata": {},
   "outputs": [],
   "source": []
  }
 ],
 "metadata": {
  "kernelspec": {
   "display_name": "Python 3 (ipykernel)",
   "language": "python",
   "name": "python3"
  },
  "language_info": {
   "codemirror_mode": {
    "name": "ipython",
    "version": 3
   },
   "file_extension": ".py",
   "mimetype": "text/x-python",
   "name": "python",
   "nbconvert_exporter": "python",
   "pygments_lexer": "ipython3",
   "version": "3.13.5"
  }
 },
 "nbformat": 4,
 "nbformat_minor": 5
}
