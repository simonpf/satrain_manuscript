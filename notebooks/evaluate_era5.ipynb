{
 "cells": [
  {
   "cell_type": "markdown",
   "id": "56b823a7-27da-4978-906c-5b859d3e7720",
   "metadata": {},
   "source": [
    "# Evaluate SatRain retrievals\n",
    "\n",
    "This notebook evaluates SatRain ML retrievals across all testing datasets."
   ]
  },
  {
   "cell_type": "code",
   "execution_count": 3,
   "id": "1235feb9-7b22-427f-97ab-d7e1f23d7eb6",
   "metadata": {},
   "outputs": [
    {
     "name": "stdout",
     "output_type": "stream",
     "text": [
      "The autoreload extension is already loaded. To reload it, use:\n",
      "  %reload_ext autoreload\n"
     ]
    }
   ],
   "source": [
    "%load_ext autoreload\n",
    "%autoreload 2\n",
    "from pathlib import Path\n",
    "from typing import Tuple\n",
    "\n",
    "import h5py\n",
    "import matplotlib.pyplot as plt\n",
    "import numpy as np\n",
    "import pandas as pd\n",
    "import xarray as xr"
   ]
  },
  {
   "cell_type": "markdown",
   "id": "e4016068-8448-4cc0-8351-3aaa3332071a",
   "metadata": {},
   "source": [
    "## ERA5 Data"
   ]
  },
  {
   "cell_type": "code",
   "execution_count": 13,
   "id": "80241310-43eb-495a-ba88-ad82ca6b4baa",
   "metadata": {},
   "outputs": [],
   "source": [
    "from satrain.input import Ancillary\n",
    "anc = Ancillary(variables=[\"total_precipitation\"])\n",
    "\n",
    "def retrieve_era5(input_data: xr.Dataset) -> xr.Dataset:\n",
    "    \"\"\"\n",
    "    Retrieval callback function to load GPROF data corresponding to IPWGML SPR evaluation data.\n",
    "\n",
    "    Args:\n",
    "        input_data: An xarray.Dataset containing the retrieval input data.\n",
    "\n",
    "    Return:\n",
    "        An xarray.Dataset containing the retrieval results.\n",
    "    \"\"\"\n",
    "    return xr.Dataset({\n",
    "        \"surface_precip\": 1e3 * input_data[{\"features_ancillary\": 0}].ancillary\n",
    "    })"
   ]
  },
  {
   "cell_type": "markdown",
   "id": "f02dd0c7-55fd-4e49-9235-ac49b400feb0",
   "metadata": {},
   "source": [
    "## Evaluation"
   ]
  },
  {
   "cell_type": "code",
   "execution_count": 14,
   "id": "33bfcf12-e9b6-405c-b22e-1a375e50a6bf",
   "metadata": {
    "scrolled": true
   },
   "outputs": [
    {
     "data": {
      "application/vnd.jupyter.widget-view+json": {
       "model_id": "42a7993fe8f34083b93db94a85e010d9",
       "version_major": 2,
       "version_minor": 0
      },
      "text/plain": [
       "Output()"
      ]
     },
     "metadata": {},
     "output_type": "display_data"
    },
    {
     "data": {
      "text/html": [
       "<pre style=\"white-space:pre;overflow-x:auto;line-height:normal;font-family:Menlo,'DejaVu Sans Mono',consolas,'Courier New',monospace\"></pre>\n"
      ],
      "text/plain": []
     },
     "metadata": {},
     "output_type": "display_data"
    },
    {
     "data": {
      "application/vnd.jupyter.widget-view+json": {
       "model_id": "86d2805a60f74037b1c223a3b08914fa",
       "version_major": 2,
       "version_minor": 0
      },
      "text/plain": [
       "Output()"
      ]
     },
     "metadata": {},
     "output_type": "display_data"
    },
    {
     "data": {
      "text/html": [
       "<pre style=\"white-space:pre;overflow-x:auto;line-height:normal;font-family:Menlo,'DejaVu Sans Mono',consolas,'Courier New',monospace\"></pre>\n"
      ],
      "text/plain": []
     },
     "metadata": {},
     "output_type": "display_data"
    },
    {
     "data": {
      "application/vnd.jupyter.widget-view+json": {
       "model_id": "911d0a43350742d8a3d97e28a2b36ee7",
       "version_major": 2,
       "version_minor": 0
      },
      "text/plain": [
       "Output()"
      ]
     },
     "metadata": {},
     "output_type": "display_data"
    },
    {
     "data": {
      "text/html": [
       "<pre style=\"white-space:pre;overflow-x:auto;line-height:normal;font-family:Menlo,'DejaVu Sans Mono',consolas,'Courier New',monospace\"></pre>\n"
      ],
      "text/plain": []
     },
     "metadata": {},
     "output_type": "display_data"
    }
   ],
   "source": [
    "from satrain.evaluation import Evaluator\n",
    "from satrain.target import TargetConfig\n",
    "\n",
    "for domain in [\"austria\", \"conus\", \"korea\"]:\n",
    "    evaluator = Evaluator(\n",
    "        domain=domain,\n",
    "        base_sensor=\"gmi\",\n",
    "        geometry=\"gridded\",\n",
    "        retrieval_input=[{\"name\": \"ancillary\", \"variables\": [\"total_precipitation\"]}]\n",
    "    )\n",
    "    evaluator.evaluate(retrieve_era5, n_processes=8)\n",
    "    results = evaluator.get_results()\n",
    "    results.to_netcdf(f'results_era5_{domain}.nc')"
   ]
  },
  {
   "cell_type": "code",
   "execution_count": null,
   "id": "89ee8761-2f60-40d5-b842-c7a4ce55238f",
   "metadata": {},
   "outputs": [],
   "source": []
  }
 ],
 "metadata": {
  "kernelspec": {
   "display_name": "Python 3 (ipykernel)",
   "language": "python",
   "name": "python3"
  },
  "language_info": {
   "codemirror_mode": {
    "name": "ipython",
    "version": 3
   },
   "file_extension": ".py",
   "mimetype": "text/x-python",
   "name": "python",
   "nbconvert_exporter": "python",
   "pygments_lexer": "ipython3",
   "version": "3.13.5"
  }
 },
 "nbformat": 4,
 "nbformat_minor": 5
}
